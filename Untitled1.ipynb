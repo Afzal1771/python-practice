{
 "cells": [
  {
   "cell_type": "code",
   "execution_count": 1,
   "id": "80330833-2aec-4d88-82e7-e7905b3a8adc",
   "metadata": {},
   "outputs": [],
   "source": [   
    "data = [10,20,30,40,90,67,40,97,66,43,11,15,13,19,24,23,11,58,71,45]"
   ]
  },
  {
   "cell_type": "code",
   "execution_count": 2,
   "id": "aba6b1f4-5009-4159-99e1-7e855cc78d60",
   "metadata": {},
   "outputs": [
    {
     "data": {
      "text/plain": [
       "list"
      ]
     },
     "execution_count": 2,
     "metadata": {},
     "output_type": "execute_result"
    }
   ],
   "source": [
    "type(data)"
   ]
  },
  {
   "cell_type": "code",
   "execution_count": 3,
   "id": "65d6646b-14de-40fc-8ed9-adf04cc29d4c",
   "metadata": {},
   "outputs": [
    {
     "name": "stdout",
     "output_type": "stream",
     "text": [
      "<class 'list'>\n"
     ]
    }
   ],
   "source": [
    "print(type(data))"
   ]
  },
  {
   "cell_type": "code",
   "execution_count": 5,
   "id": "3d133ee0-bfec-4f75-bd85-97daf9a849e5",
   "metadata": {},
   "outputs": [
    {
     "data": {
      "text/plain": [
       "[10,\n",
       " 20,\n",
       " 30,\n",
       " 40,\n",
       " 90,\n",
       " 67,\n",
       " 40,\n",
       " 97,\n",
       " 66,\n",
       " 43,\n",
       " 11,\n",
       " 15,\n",
       " 13,\n",
       " 19,\n",
       " 24,\n",
       " 23,\n",
       " 11,\n",
       " 58,\n",
       " 71,\n",
       " 45,\n",
       " 10,\n",
       " 20,\n",
       " 30,\n",
       " 40,\n",
       " 90,\n",
       " 67,\n",
       " 40,\n",
       " 97,\n",
       " 66,\n",
       " 43,\n",
       " 11,\n",
       " 15,\n",
       " 13,\n",
       " 19,\n",
       " 24,\n",
       " 23,\n",
       " 11,\n",
       " 58,\n",
       " 71,\n",
       " 45]"
      ]
     },
     "execution_count": 5,
     "metadata": {},
     "output_type": "execute_result"
    }
   ],
   "source": [
    "data * 2"
   ]
  },
  {
   "cell_type": "code",
   "execution_count": 6,
   "id": "cf5af773-ce5b-4651-bf3b-e32958bcc7fa",
   "metadata": {},
   "outputs": [],
   "source": [
    "import numpy as np\n"
   ]
  },
  {
   "cell_type": "code",
   "execution_count": 7,
   "id": "0a698d02-4dbc-4cc1-be0d-50fa3835d554",
   "metadata": {},
   "outputs": [],
   "source": [
    "grade = np.array(data)"
   ]
  },
  {
   "cell_type": "code",
   "execution_count": 8,
   "id": "e1a6daab-aee5-447d-8de2-938c2a03ec7c",
   "metadata": {},
   "outputs": [
    {
     "name": "stdout",
     "output_type": "stream",
     "text": [
      "[10 20 30 40 90 67 40 97 66 43 11 15 13 19 24 23 11 58 71 45]\n"
     ]
    }
   ],
   "source": [
    "print(grade)"
   ]
  },
  {
   "cell_type": "code",
   "execution_count": 9,
   "id": "262082d4-9fbe-405c-b5fd-a03721f27d12",
   "metadata": {},
   "outputs": [
    {
     "data": {
      "text/plain": [
       "array([ 30,  60,  90, 120, 270, 201, 120, 291, 198, 129,  33,  45,  39,\n",
       "        57,  72,  69,  33, 174, 213, 135])"
      ]
     },
     "execution_count": 9,
     "metadata": {},
     "output_type": "execute_result"
    }
   ],
   "source": [
    "grade * 3"
   ]
  },
  {
   "cell_type": "code",
   "execution_count": 10,
   "id": "cab3c6ba-5e9b-4fa6-b79f-6120f69f921c",
   "metadata": {},
   "outputs": [
    {
     "data": {
      "text/plain": [
       "(20,)"
      ]
     },
     "execution_count": 10,
     "metadata": {},
     "output_type": "execute_result"
    }
   ],
   "source": [
    "grade.shape # shape of array data"
   ]
  },
  {
   "cell_type": "code",
   "execution_count": 11,
   "id": "38f61b87-00fe-44aa-b11d-e77acecbd17d",
   "metadata": {},
   "outputs": [
    {
     "ename": "AttributeError",
     "evalue": "'list' object has no attribute 'shape'",
     "output_type": "error",
     "traceback": [
      "\u001b[1;31m---------------------------------------------------------------------------\u001b[0m",
      "\u001b[1;31mAttributeError\u001b[0m                            Traceback (most recent call last)",
      "Cell \u001b[1;32mIn[11], line 1\u001b[0m\n\u001b[1;32m----> 1\u001b[0m data\u001b[38;5;241m.\u001b[39mshape\n",
      "\u001b[1;31mAttributeError\u001b[0m: 'list' object has no attribute 'shape'"
     ]
    }
   ],
   "source": [
    "data.shape #not able print shap of list data"
   ]
  },
  {
   "cell_type": "code",
   "execution_count": null,
   "id": "ea8d3e92-986b-4177-aabc-efd7fe39cdf4",
   "metadata": {},
   "outputs": [],
   "source": []
  },
  {
   "cell_type": "code",
   "execution_count": 12,
   "id": "f32da5d6-38b7-4997-b397-f42703031d2b",
   "metadata": {},
   "outputs": [
    {
     "data": {
      "text/plain": [
       "39.65"
      ]
     },
     "execution_count": 12,
     "metadata": {},
     "output_type": "execute_result"
    }
   ],
   "source": [
    "grade.mean()"
   ]
  },
  {
   "cell_type": "code",
   "execution_count": 13,
   "id": "fcc98a37-db07-45f7-9de9-c932f7397abe",
   "metadata": {},
   "outputs": [],
   "source": [
    "numpy_array = [1,2,3,4,5,6,7,8,9,10]"
   ]
  },
  {
   "cell_type": "code",
   "execution_count": 14,
   "id": "68866030-913f-4093-8aa8-36fffc1bcf8a",
   "metadata": {},
   "outputs": [
    {
     "name": "stdout",
     "output_type": "stream",
     "text": [
      "<class 'list'>\n"
     ]
    }
   ],
   "source": [
    "print(type(numpy_array))"
   ]
  },
  {
   "cell_type": "code",
   "execution_count": 15,
   "id": "9a7ccb32-4388-463d-ba33-c432aba23b22",
   "metadata": {},
   "outputs": [],
   "source": [
    "import numpy as np\n",
    "data2 = np.array(numpy_array)"
   ]
  },
  {
   "cell_type": "code",
   "execution_count": 16,
   "id": "d3d8ea7d-a82b-448a-860e-7feaae2738ba",
   "metadata": {},
   "outputs": [
    {
     "name": "stdout",
     "output_type": "stream",
     "text": [
      "[ 1  2  3  4  5  6  7  8  9 10]\n"
     ]
    }
   ],
   "source": [
    "print(data2)"
   ]
  },
  {
   "cell_type": "code",
   "execution_count": 18,
   "id": "54a3a08e-ffd5-4e61-9b98-596115957c02",
   "metadata": {},
   "outputs": [],
   "source": [
    "rsap = data2.reshape(2,5)  # reshape 2*5"
   ]
  },
  {
   "cell_type": "code",
   "execution_count": 19,
   "id": "685445d0-0321-45de-8294-2a879a371210",
   "metadata": {},
   "outputs": [
    {
     "name": "stdout",
     "output_type": "stream",
     "text": [
      "[[ 1  2  3  4  5]\n",
      " [ 6  7  8  9 10]]\n"
     ]
    }
   ],
   "source": [
    "print(rsap)"
   ]
  },
  {
   "cell_type": "code",
   "execution_count": 22,
   "id": "07f8520b-5aaf-48a5-b086-73fdfe828bf1",
   "metadata": {},
   "outputs": [],
   "source": [
    "first_row = rsap[0,:]"
   ]
  },
  {
   "cell_type": "code",
   "execution_count": 23,
   "id": "9071a184-c847-4d41-96bd-557d01fadd0b",
   "metadata": {},
   "outputs": [
    {
     "name": "stdout",
     "output_type": "stream",
     "text": [
      "[1 2 3 4 5]\n"
     ]
    }
   ],
   "source": [
    "print(first_row)  #print first row"
   ]
  },
  {
   "cell_type": "code",
   "execution_count": 29,
   "id": "293e3475-5b71-4f9a-9198-2c5d08fd586c",
   "metadata": {},
   "outputs": [],
   "source": [
    "second_column = rsap[:,1]"
   ]
  },
  {
   "cell_type": "code",
   "execution_count": 30,
   "id": "8ced0bb3-c6e4-4a44-beb1-a24d4c097e1e",
   "metadata": {},
   "outputs": [
    {
     "name": "stdout",
     "output_type": "stream",
     "text": [
      "[2 7]\n"
     ]
    }
   ],
   "source": [
    "print(second_column)  #print second column from matrix"
   ]
  },
  {
   "cell_type": "code",
   "execution_count": 32,
   "id": "4caa4caf-b860-423a-8630-638bdf41b748",
   "metadata": {},
   "outputs": [],
   "source": [
    "sum_of_matrix = np.sum(data2)"
   ]
  },
  {
   "cell_type": "code",
   "execution_count": 33,
   "id": "058d8999-bb68-410b-8bd3-6c16a2b3c324",
   "metadata": {},
   "outputs": [],
   "source": [
    "mean_of_matrix = np.mean(data2)"
   ]
  },
  {
   "cell_type": "code",
   "execution_count": 34,
   "id": "4ac63fec-f68f-4ec6-a249-05544dd204ae",
   "metadata": {},
   "outputs": [],
   "source": [
    "standard_deviation_of_matrix = np.std(data2)"
   ]
  },
  {
   "cell_type": "code",
   "execution_count": 35,
   "id": "f602184c-bcbe-4c14-ad01-f97cf0fa1d8b",
   "metadata": {},
   "outputs": [
    {
     "name": "stdout",
     "output_type": "stream",
     "text": [
      "sum of Matrix :  55\n",
      "mean of Matrix :  5.5\n",
      "standard of Matrix :  2.8722813232690143\n"
     ]
    }
   ],
   "source": [
    "print(\"sum of Matrix : \", sum_of_matrix )  #sum of matrix\n",
    "\n",
    "print(\"mean of Matrix : \", mean_of_matrix  )  # mean of matrix\n",
    "\n",
    "print(\"standard of Matrix : \", standard_deviation_of_matrix)  #standard deviation of Matrix"
   ]
  },
  {
   "cell_type": "code",
   "execution_count": 36,
   "id": "1faf10c2-47c9-4fac-99a1-512b2827f324",
   "metadata": {},
   "outputs": [],
   "source": [
    "import pandas as pd\n",
    "import numpy as np\n"
   ]
  },
  {
   "cell_type": "code",
   "execution_count": 38,
   "id": "6abaeb36-7126-48ed-a16b-1171547517a9",
   "metadata": {},
   "outputs": [],
   "source": [
    "age = [20,22,19,21]\n",
    "marks = [85,90,78,88]\n",
    "student_data = np.array([age,marks])\n",
    "student_city = ['New york','Bostan','Chicago','Seattle']"
   ]
  },
  {
   "cell_type": "code",
   "execution_count": 53,
   "id": "c41633e6-7145-421f-ab60-8670505459d7",
   "metadata": {},
   "outputs": [],
   "source": [
    "student_data1 = ({'Name': ['Alice','Bob','Carol','Dave'],'Age' :student_data[0],'Gender' :['F','M','F','M'],\n",
    "                 'City':student_city[0:],'Marks' :student_data[1]})\n",
    "\n",
    "df=pd.DataFrame(student_data1)"
   ]
  },
  {
   "cell_type": "code",
   "execution_count": 54,
   "id": "3f12a9ef-fd98-4d7a-89c4-8ff943d7890e",
   "metadata": {},
   "outputs": [
    {
     "data": {
      "text/html": [
       "<div>\n",
       "<style scoped>\n",
       "    .dataframe tbody tr th:only-of-type {\n",
       "        vertical-align: middle;\n",
       "    }\n",
       "\n",
       "    .dataframe tbody tr th {\n",
       "        vertical-align: top;\n",
       "    }\n",
       "\n",
       "    .dataframe thead th {\n",
       "        text-align: right;\n",
       "    }\n",
       "</style>\n",
       "<table border=\"1\" class=\"dataframe\">\n",
       "  <thead>\n",
       "    <tr style=\"text-align: right;\">\n",
       "      <th></th>\n",
       "      <th>Name</th>\n",
       "      <th>Age</th>\n",
       "      <th>Gender</th>\n",
       "      <th>City</th>\n",
       "      <th>Marks</th>\n",
       "    </tr>\n",
       "  </thead>\n",
       "  <tbody>\n",
       "    <tr>\n",
       "      <th>0</th>\n",
       "      <td>Alice</td>\n",
       "      <td>20</td>\n",
       "      <td>F</td>\n",
       "      <td>New york</td>\n",
       "      <td>85</td>\n",
       "    </tr>\n",
       "    <tr>\n",
       "      <th>1</th>\n",
       "      <td>Bob</td>\n",
       "      <td>22</td>\n",
       "      <td>M</td>\n",
       "      <td>Bostan</td>\n",
       "      <td>90</td>\n",
       "    </tr>\n",
       "    <tr>\n",
       "      <th>2</th>\n",
       "      <td>Carol</td>\n",
       "      <td>19</td>\n",
       "      <td>F</td>\n",
       "      <td>Chicago</td>\n",
       "      <td>78</td>\n",
       "    </tr>\n",
       "    <tr>\n",
       "      <th>3</th>\n",
       "      <td>Dave</td>\n",
       "      <td>21</td>\n",
       "      <td>M</td>\n",
       "      <td>Seattle</td>\n",
       "      <td>88</td>\n",
       "    </tr>\n",
       "  </tbody>\n",
       "</table>\n",
       "</div>"
      ],
      "text/plain": [
       "    Name  Age Gender      City  Marks\n",
       "0  Alice   20      F  New york     85\n",
       "1    Bob   22      M    Bostan     90\n",
       "2  Carol   19      F   Chicago     78\n",
       "3   Dave   21      M   Seattle     88"
      ]
     },
     "execution_count": 54,
     "metadata": {},
     "output_type": "execute_result"
    }
   ],
   "source": [
    "df #print student details"
   ]
  },
  {
   "cell_type": "code",
   "execution_count": null,
   "id": "fe4810b1-dc0f-4879-a0ed-c0a0dfdbe777",
   "metadata": {},
   "outputs": [],
   "source": []
  }
 ],
 "metadata": {
  "kernelspec": {
   "display_name": "Python 3 (ipykernel)",
   "language": "python",
   "name": "python3"
  },
  "language_info": {
   "codemirror_mode": {
    "name": "ipython",
    "version": 3
   },
   "file_extension": ".py",
   "mimetype": "text/x-python",
   "name": "python",
   "nbconvert_exporter": "python",
   "pygments_lexer": "ipython3",
   "version": "3.12.4"
  }
 },
 "nbformat": 4,
 "nbformat_minor": 5
}
