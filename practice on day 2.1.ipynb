{
 "cells": [
  {
   "cell_type": "code",
   "execution_count": 2,
   "id": "80330833-2aec-4d88-82e7-e7905b3a8adc",
   "metadata": {},
   "outputs": [],
   "source": [
    "data = [10,20,30,40,90,67,40,97,66,43,11,15,13,19,24,23,11,58,71,45]"
   ]
  },
  {
   "cell_type": "code",
   "execution_count": 3,
   "id": "aba6b1f4-5009-4159-99e1-7e855cc78d60",
   "metadata": {},
   "outputs": [
    {
     "data": {
      "text/plain": [
       "list"
      ]
     },
     "execution_count": 3,
     "metadata": {},
     "output_type": "execute_result"
    }
   ],
   "source": [
    "type(data)"
   ]
  },
  {
   "cell_type": "code",
   "execution_count": 4,
   "id": "65d6646b-14de-40fc-8ed9-adf04cc29d4c",
   "metadata": {},
   "outputs": [
    {
     "name": "stdout",
     "output_type": "stream",
     "text": [
      "<class 'list'>\n"
     ]
    }
   ],
   "source": [
    "print(type(data))"
   ]
  },
  {
   "cell_type": "code",
   "execution_count": 5,
   "id": "3d133ee0-bfec-4f75-bd85-97daf9a849e5",
   "metadata": {},
   "outputs": [
    {
     "data": {
      "text/plain": [
       "[10,\n",
       " 20,\n",
       " 30,\n",
       " 40,\n",
       " 90,\n",
       " 67,\n",
       " 40,\n",
       " 97,\n",
       " 66,\n",
       " 43,\n",
       " 11,\n",
       " 15,\n",
       " 13,\n",
       " 19,\n",
       " 24,\n",
       " 23,\n",
       " 11,\n",
       " 58,\n",
       " 71,\n",
       " 45,\n",
       " 10,\n",
       " 20,\n",
       " 30,\n",
       " 40,\n",
       " 90,\n",
       " 67,\n",
       " 40,\n",
       " 97,\n",
       " 66,\n",
       " 43,\n",
       " 11,\n",
       " 15,\n",
       " 13,\n",
       " 19,\n",
       " 24,\n",
       " 23,\n",
       " 11,\n",
       " 58,\n",
       " 71,\n",
       " 45]"
      ]
     },
     "execution_count": 5,
     "metadata": {},
     "output_type": "execute_result"
    }
   ],
   "source": [
    "data * 2"
   ]
  },
  {
   "cell_type": "code",
   "execution_count": 6,
   "id": "cf5af773-ce5b-4651-bf3b-e32958bcc7fa",
   "metadata": {},
   "outputs": [],
   "source": [
    "import numpy as np\n"
   ]
  },
  {
   "cell_type": "code",
   "execution_count": 7,
   "id": "0a698d02-4dbc-4cc1-be0d-50fa3835d554",
   "metadata": {},
   "outputs": [],
   "source": [
    "grade = np.array(data)"
   ]
  },
  {
   "cell_type": "code",
   "execution_count": 8,
   "id": "e1a6daab-aee5-447d-8de2-938c2a03ec7c",
   "metadata": {},
   "outputs": [
    {
     "name": "stdout",
     "output_type": "stream",
     "text": [
      "[10 20 30 40 90 67 40 97 66 43 11 15 13 19 24 23 11 58 71 45]\n"
     ]
    }
   ],
   "source": [
    "print(grade)"
   ]
  },
  {
   "cell_type": "code",
   "execution_count": 9,
   "id": "262082d4-9fbe-405c-b5fd-a03721f27d12",
   "metadata": {},
   "outputs": [
    {
     "data": {
      "text/plain": [
       "array([ 30,  60,  90, 120, 270, 201, 120, 291, 198, 129,  33,  45,  39,\n",
       "        57,  72,  69,  33, 174, 213, 135])"
      ]
     },
     "execution_count": 9,
     "metadata": {},
     "output_type": "execute_result"
    }
   ],
   "source": [
    "grade * 3"
   ]
  },
  {
   "cell_type": "code",
   "execution_count": 10,
   "id": "cab3c6ba-5e9b-4fa6-b79f-6120f69f921c",
   "metadata": {},
   "outputs": [
    {
     "data": {
      "text/plain": [
       "(20,)"
      ]
     },
     "execution_count": 10,
     "metadata": {},
     "output_type": "execute_result"
    }
   ],
   "source": [
    "grade.shape # shape of array data"
   ]
  },
  {
   "cell_type": "code",
   "execution_count": 11,
   "id": "38f61b87-00fe-44aa-b11d-e77acecbd17d",
   "metadata": {},
   "outputs": [
    {
     "ename": "AttributeError",
     "evalue": "'list' object has no attribute 'shape'",
     "output_type": "error",
     "traceback": [
      "\u001b[1;31m---------------------------------------------------------------------------\u001b[0m",
      "\u001b[1;31mAttributeError\u001b[0m                            Traceback (most recent call last)",
      "Cell \u001b[1;32mIn[11], line 1\u001b[0m\n\u001b[1;32m----> 1\u001b[0m data\u001b[38;5;241m.\u001b[39mshape\n",
      "\u001b[1;31mAttributeError\u001b[0m: 'list' object has no attribute 'shape'"
     ]
    }
   ],
   "source": [
    "data.shape #not able print shap of list data"
   ]
  },
  {
   "cell_type": "code",
   "execution_count": null,
   "id": "ea8d3e92-986b-4177-aabc-efd7fe39cdf4",
   "metadata": {},
   "outputs": [],
   "source": []
  },
  {
   "cell_type": "code",
   "execution_count": null,
   "id": "f32da5d6-38b7-4997-b397-f42703031d2b",
   "metadata": {},
   "outputs": [],
   "source": [
    "grade.mean()"
   ]
  },
  {
   "cell_type": "code",
   "execution_count": null,
   "id": "fcc98a37-db07-45f7-9de9-c932f7397abe",
   "metadata": {},
   "outputs": [],
   "source": [
    "numpy_array = [1,2,3,4,5,6,7,8,9,10]"
   ]
  },
  {
   "cell_type": "code",
   "execution_count": null,
   "id": "68866030-913f-4093-8aa8-36fffc1bcf8a",
   "metadata": {},
   "outputs": [],
   "source": [
    "print(type(numpy_array))"
   ]
  },
  {
   "cell_type": "code",
   "execution_count": null,
   "id": "9a7ccb32-4388-463d-ba33-c432aba23b22",
   "metadata": {},
   "outputs": [],
   "source": [
    "import numpy as np\n",
    "data2 = np.array(numpy_array)"
   ]
  },
  {
   "cell_type": "code",
   "execution_count": null,
   "id": "d3d8ea7d-a82b-448a-860e-7feaae2738ba",
   "metadata": {},
   "outputs": [],
   "source": [
    "print(data2)"
   ]
  },
  {
   "cell_type": "code",
   "execution_count": null,
   "id": "54a3a08e-ffd5-4e61-9b98-596115957c02",
   "metadata": {},
   "outputs": [],
   "source": [
    "rsap = data2.reshape(2,5)  # reshape 2*5"
   ]
  },
  {
   "cell_type": "code",
   "execution_count": null,
   "id": "685445d0-0321-45de-8294-2a879a371210",
   "metadata": {},
   "outputs": [],
   "source": [
    "print(rsap)"
   ]
  },
  {
   "cell_type": "code",
   "execution_count": null,
   "id": "07f8520b-5aaf-48a5-b086-73fdfe828bf1",
   "metadata": {},
   "outputs": [],
   "source": [
    "first_row = rsap[0,:]"
   ]
  },
  {
   "cell_type": "code",
   "execution_count": null,
   "id": "9071a184-c847-4d41-96bd-557d01fadd0b",
   "metadata": {},
   "outputs": [],
   "source": [
    "print(first_row)  #print first row"
   ]
  },
  {
   "cell_type": "code",
   "execution_count": null,
   "id": "293e3475-5b71-4f9a-9198-2c5d08fd586c",
   "metadata": {},
   "outputs": [],
   "source": [
    "second_column = rsap[:,1]"
   ]
  },
  {
   "cell_type": "code",
   "execution_count": null,
   "id": "8ced0bb3-c6e4-4a44-beb1-a24d4c097e1e",
   "metadata": {},
   "outputs": [],
   "source": [
    "print(second_column)  #print second column from matrix"
   ]
  },
  {
   "cell_type": "code",
   "execution_count": null,
   "id": "4caa4caf-b860-423a-8630-638bdf41b748",
   "metadata": {},
   "outputs": [],
   "source": [
    "sum_of_matrix = np.sum(data2)"
   ]
  },
  {
   "cell_type": "code",
   "execution_count": null,
   "id": "058d8999-bb68-410b-8bd3-6c16a2b3c324",
   "metadata": {},
   "outputs": [],
   "source": [
    "mean_of_matrix = np.mean(data2)"
   ]
  },
  {
   "cell_type": "code",
   "execution_count": null,
   "id": "4ac63fec-f68f-4ec6-a249-05544dd204ae",
   "metadata": {},
   "outputs": [],
   "source": [
    "standard_deviation_of_matrix = np.std(data2)"
   ]
  },
  {
   "cell_type": "code",
   "execution_count": null,
   "id": "f602184c-bcbe-4c14-ad01-f97cf0fa1d8b",
   "metadata": {},
   "outputs": [],
   "source": [
    "print(\"sum of Matrix : \", sum_of_matrix )  #sum of matrix\n",
    "\n",
    "print(\"mean of Matrix : \", mean_of_matrix  )  # mean of matrix\n",
    "\n",
    "print(\"standard of Matrix : \", standard_deviation_of_matrix)  #standard deviation of Matrix"
   ]
  },
  {
   "cell_type": "code",
   "execution_count": null,
   "id": "1faf10c2-47c9-4fac-99a1-512b2827f324",
   "metadata": {},
   "outputs": [],
   "source": [
    "import pandas as pd\n",
    "import numpy as np\n"
   ]
  },
  {
   "cell_type": "code",
   "execution_count": null,
   "id": "6abaeb36-7126-48ed-a16b-1171547517a9",
   "metadata": {},
   "outputs": [],
   "source": [
    "age = [20,22,19,21]\n",
    "marks = [85,90,78,88]\n",
    "student_data = np.array([age,marks])\n",
    "student_city = ['New york','Bostan','Chicago','Seattle']"
   ]
  },
  {
   "cell_type": "code",
   "execution_count": null,
   "id": "c41633e6-7145-421f-ab60-8670505459d7",
   "metadata": {},
   "outputs": [],
   "source": [
    "student_data1 = ({'Name': ['Alice','Bob','Carol','Dave'],'Age' :student_data[0],'Gender' :['F','M','F','M'],\n",
    "                 'City':student_city[0:],'Marks' :student_data[1]})\n",
    "\n",
    "df=pd.DataFrame(student_data1)"
   ]
  },
  {
   "cell_type": "code",
   "execution_count": null,
   "id": "3f12a9ef-fd98-4d7a-89c4-8ff943d7890e",
   "metadata": {},
   "outputs": [],
   "source": [
    "df #print student details"
   ]
  },
  {
   "cell_type": "code",
   "execution_count": null,
   "id": "fe4810b1-dc0f-4879-a0ed-c0a0dfdbe777",
   "metadata": {},
   "outputs": [],
   "source": [
    "df.loc[1]"
   ]
  },
  {
   "cell_type": "code",
   "execution_count": null,
   "id": "2997dff3-9aa6-4ece-b701-150d1fe41f3b",
   "metadata": {},
   "outputs": [],
   "source": []
  },
  {
   "cell_type": "code",
   "execution_count": null,
   "id": "318b534d-cd54-4f30-80dc-a857af038e8a",
   "metadata": {},
   "outputs": [],
   "source": []
  },
  {
   "cell_type": "code",
   "execution_count": null,
   "id": "8e53fb0f-69a5-4039-b07f-200c9e24646c",
   "metadata": {},
   "outputs": [],
   "source": []
  },
  {
   "cell_type": "code",
   "execution_count": null,
   "id": "fba93453-7587-4794-9e58-a42668f72e04",
   "metadata": {},
   "outputs": [],
   "source": []
  },
  {
   "cell_type": "code",
   "execution_count": null,
   "id": "5d6aa5f7-c466-4dc5-9b18-3bf0f200db29",
   "metadata": {},
   "outputs": [],
   "source": [
    "import os\n",
    "print(os.getcwd())"
   ]
  },
  {
   "cell_type": "code",
   "execution_count": 47,
   "id": "b1cc6f5b-c45c-4bfb-b1db-dfa985a25e22",
   "metadata": {},
   "outputs": [],
   "source": [
    "import pandas as pd\n",
    "df = pd.read_csv('C:/Users/new/Downloads/grades.csv',delimiter=',',header='infer')"
   ]
  },
  {
   "cell_type": "code",
   "execution_count": 48,
   "id": "03c1b8b5-615c-412b-bf00-2bcede206fa8",
   "metadata": {},
   "outputs": [
    {
     "data": {
      "text/html": [
       "<div>\n",
       "<style scoped>\n",
       "    .dataframe tbody tr th:only-of-type {\n",
       "        vertical-align: middle;\n",
       "    }\n",
       "\n",
       "    .dataframe tbody tr th {\n",
       "        vertical-align: top;\n",
       "    }\n",
       "\n",
       "    .dataframe thead th {\n",
       "        text-align: right;\n",
       "    }\n",
       "</style>\n",
       "<table border=\"1\" class=\"dataframe\">\n",
       "  <thead>\n",
       "    <tr style=\"text-align: right;\">\n",
       "      <th></th>\n",
       "      <th>Name</th>\n",
       "      <th>StudyHours</th>\n",
       "      <th>Grade</th>\n",
       "    </tr>\n",
       "  </thead>\n",
       "  <tbody>\n",
       "    <tr>\n",
       "      <th>0</th>\n",
       "      <td>Dan</td>\n",
       "      <td>10.00</td>\n",
       "      <td>50.0</td>\n",
       "    </tr>\n",
       "    <tr>\n",
       "      <th>1</th>\n",
       "      <td>Joann</td>\n",
       "      <td>11.50</td>\n",
       "      <td>50.0</td>\n",
       "    </tr>\n",
       "    <tr>\n",
       "      <th>2</th>\n",
       "      <td>Pedro</td>\n",
       "      <td>9.00</td>\n",
       "      <td>47.0</td>\n",
       "    </tr>\n",
       "    <tr>\n",
       "      <th>3</th>\n",
       "      <td>Rosie</td>\n",
       "      <td>16.00</td>\n",
       "      <td>97.0</td>\n",
       "    </tr>\n",
       "    <tr>\n",
       "      <th>4</th>\n",
       "      <td>Ethan</td>\n",
       "      <td>9.25</td>\n",
       "      <td>49.0</td>\n",
       "    </tr>\n",
       "    <tr>\n",
       "      <th>5</th>\n",
       "      <td>Vicky</td>\n",
       "      <td>1.00</td>\n",
       "      <td>3.0</td>\n",
       "    </tr>\n",
       "    <tr>\n",
       "      <th>6</th>\n",
       "      <td>Frederic</td>\n",
       "      <td>11.50</td>\n",
       "      <td>53.0</td>\n",
       "    </tr>\n",
       "    <tr>\n",
       "      <th>7</th>\n",
       "      <td>Jimmie</td>\n",
       "      <td>9.00</td>\n",
       "      <td>42.0</td>\n",
       "    </tr>\n",
       "    <tr>\n",
       "      <th>8</th>\n",
       "      <td>Rhonda</td>\n",
       "      <td>8.50</td>\n",
       "      <td>26.0</td>\n",
       "    </tr>\n",
       "    <tr>\n",
       "      <th>9</th>\n",
       "      <td>Giovanni</td>\n",
       "      <td>14.50</td>\n",
       "      <td>74.0</td>\n",
       "    </tr>\n",
       "    <tr>\n",
       "      <th>10</th>\n",
       "      <td>Francesca</td>\n",
       "      <td>15.50</td>\n",
       "      <td>82.0</td>\n",
       "    </tr>\n",
       "    <tr>\n",
       "      <th>11</th>\n",
       "      <td>Rajab</td>\n",
       "      <td>13.75</td>\n",
       "      <td>62.0</td>\n",
       "    </tr>\n",
       "    <tr>\n",
       "      <th>12</th>\n",
       "      <td>Naiyana</td>\n",
       "      <td>9.00</td>\n",
       "      <td>37.0</td>\n",
       "    </tr>\n",
       "    <tr>\n",
       "      <th>13</th>\n",
       "      <td>Kian</td>\n",
       "      <td>8.00</td>\n",
       "      <td>15.0</td>\n",
       "    </tr>\n",
       "    <tr>\n",
       "      <th>14</th>\n",
       "      <td>Jenny</td>\n",
       "      <td>15.50</td>\n",
       "      <td>70.0</td>\n",
       "    </tr>\n",
       "    <tr>\n",
       "      <th>15</th>\n",
       "      <td>Jakeem</td>\n",
       "      <td>8.00</td>\n",
       "      <td>27.0</td>\n",
       "    </tr>\n",
       "    <tr>\n",
       "      <th>16</th>\n",
       "      <td>Helena</td>\n",
       "      <td>9.00</td>\n",
       "      <td>36.0</td>\n",
       "    </tr>\n",
       "    <tr>\n",
       "      <th>17</th>\n",
       "      <td>Ismat</td>\n",
       "      <td>6.00</td>\n",
       "      <td>35.0</td>\n",
       "    </tr>\n",
       "    <tr>\n",
       "      <th>18</th>\n",
       "      <td>Anila</td>\n",
       "      <td>10.00</td>\n",
       "      <td>48.0</td>\n",
       "    </tr>\n",
       "    <tr>\n",
       "      <th>19</th>\n",
       "      <td>Skye</td>\n",
       "      <td>12.00</td>\n",
       "      <td>52.0</td>\n",
       "    </tr>\n",
       "    <tr>\n",
       "      <th>20</th>\n",
       "      <td>Daniel</td>\n",
       "      <td>12.50</td>\n",
       "      <td>63.0</td>\n",
       "    </tr>\n",
       "    <tr>\n",
       "      <th>21</th>\n",
       "      <td>Aisha</td>\n",
       "      <td>12.00</td>\n",
       "      <td>64.0</td>\n",
       "    </tr>\n",
       "    <tr>\n",
       "      <th>22</th>\n",
       "      <td>Bill</td>\n",
       "      <td>8.00</td>\n",
       "      <td>NaN</td>\n",
       "    </tr>\n",
       "    <tr>\n",
       "      <th>23</th>\n",
       "      <td>Ted</td>\n",
       "      <td>NaN</td>\n",
       "      <td>NaN</td>\n",
       "    </tr>\n",
       "  </tbody>\n",
       "</table>\n",
       "</div>"
      ],
      "text/plain": [
       "         Name  StudyHours  Grade\n",
       "0         Dan       10.00   50.0\n",
       "1       Joann       11.50   50.0\n",
       "2       Pedro        9.00   47.0\n",
       "3       Rosie       16.00   97.0\n",
       "4       Ethan        9.25   49.0\n",
       "5       Vicky        1.00    3.0\n",
       "6    Frederic       11.50   53.0\n",
       "7      Jimmie        9.00   42.0\n",
       "8      Rhonda        8.50   26.0\n",
       "9    Giovanni       14.50   74.0\n",
       "10  Francesca       15.50   82.0\n",
       "11      Rajab       13.75   62.0\n",
       "12    Naiyana        9.00   37.0\n",
       "13       Kian        8.00   15.0\n",
       "14      Jenny       15.50   70.0\n",
       "15     Jakeem        8.00   27.0\n",
       "16     Helena        9.00   36.0\n",
       "17      Ismat        6.00   35.0\n",
       "18      Anila       10.00   48.0\n",
       "19       Skye       12.00   52.0\n",
       "20     Daniel       12.50   63.0\n",
       "21      Aisha       12.00   64.0\n",
       "22       Bill        8.00    NaN\n",
       "23        Ted         NaN    NaN"
      ]
     },
     "execution_count": 48,
     "metadata": {},
     "output_type": "execute_result"
    }
   ],
   "source": [
    "df\n"
   ]
  },
  {
   "cell_type": "code",
   "execution_count": 21,
   "id": "31c58c08-16b6-4e89-94df-d99b38b30b48",
   "metadata": {},
   "outputs": [
    {
     "data": {
      "text/plain": [
       "(24, 3)"
      ]
     },
     "execution_count": 21,
     "metadata": {},
     "output_type": "execute_result"
    }
   ],
   "source": [
    "df.shape #shape of Dataset"
   ]
  },
  {
   "cell_type": "code",
   "execution_count": null,
   "id": "404adef0-d096-4dde-ad59-7bef3f5f5ccf",
   "metadata": {},
   "outputs": [],
   "source": [
    "df.info() #display the column name , datatypes and null values"
   ]
  },
  {
   "cell_type": "code",
   "execution_count": null,
   "id": "bde5a35e-289d-4a8a-bef5-6907518e10d1",
   "metadata": {},
   "outputs": [],
   "source": [
    "df.head(5)  #top five rows"
   ]
  },
  {
   "cell_type": "code",
   "execution_count": null,
   "id": "4c1a296a-e93d-4542-9f22-f4fa95b800d5",
   "metadata": {},
   "outputs": [],
   "source": [
    "df.tail(5)  #bottom five rows "
   ]
  },
  {
   "cell_type": "code",
   "execution_count": null,
   "id": "18df533a-87b7-4b76-8d15-ea0bd63eb9a9",
   "metadata": {},
   "outputs": [],
   "source": [
    "df.isnull().sum()   #missing null value and his count"
   ]
  },
  {
   "cell_type": "code",
   "execution_count": null,
   "id": "eadb23da-7e21-4986-8393-bc1322dd94b1",
   "metadata": {},
   "outputs": [],
   "source": [
    "df[df.isnull().any(axis=1)]"
   ]
  },
  {
   "cell_type": "code",
   "execution_count": null,
   "id": "ba546dd7-1d2f-4927-a837-5bf0ffdfcd50",
   "metadata": {},
   "outputs": [],
   "source": [
    "df.StudyHours=df.StudyHours.fillna(df.StudyHours.mean())"
   ]
  },
  {
   "cell_type": "code",
   "execution_count": null,
   "id": "d144ddf9-7eed-41c5-b5b4-874775f96b41",
   "metadata": {},
   "outputs": [],
   "source": [
    "df"
   ]
  },
  {
   "cell_type": "code",
   "execution_count": null,
   "id": "1f95a295-4ccf-4fb3-8cf0-4c15ee493b8b",
   "metadata": {},
   "outputs": [],
   "source": [
    "df=df.dropna(axis=0, how='any')\n",
    "df"
   ]
  },
  {
   "cell_type": "code",
   "execution_count": null,
   "id": "65c8828f-737b-40fd-bc44-e9fd244384da",
   "metadata": {},
   "outputs": [],
   "source": [
    "mean_study = df.StudyHours.mean()"
   ]
  },
  {
   "cell_type": "code",
   "execution_count": null,
   "id": "0699f1da-06e8-4745-8598-2e62c062689f",
   "metadata": {},
   "outputs": [],
   "source": [
    "mean_study"
   ]
  },
  {
   "cell_type": "code",
   "execution_count": null,
   "id": "11a9c8d8-5c7a-46c1-ba5c-9be3bda349af",
   "metadata": {},
   "outputs": [],
   "source": [
    "mean_grade = df.Grade.mean()"
   ]
  },
  {
   "cell_type": "code",
   "execution_count": null,
   "id": "0e8d5b24-f417-43b3-9bfe-fc9b39011073",
   "metadata": {},
   "outputs": [],
   "source": [
    "mean_grade"
   ]
  },
  {
   "cell_type": "code",
   "execution_count": null,
   "id": "afcc2eab-d9d5-453b-ab8f-063ed060c700",
   "metadata": {},
   "outputs": [],
   "source": [
    "print(\"mean value of study : \",mean_study)\n",
    "print(\"mean value of grade : \",mean_grade)"
   ]
  },
  {
   "cell_type": "code",
   "execution_count": null,
   "id": "c5b70081-ea93-4764-8780-6cdac3e37a7f",
   "metadata": {},
   "outputs": [],
   "source": [
    "df[df.Grade > mean_grade]    #grade greater mean of grade"
   ]
  },
  {
   "cell_type": "code",
   "execution_count": null,
   "id": "7be7d8f6-4786-4329-9549-530cbbe029f0",
   "metadata": {},
   "outputs": [],
   "source": [
    "df[df.StudyHours < mean_study]   # mean less than study"
   ]
  },
  {
   "cell_type": "code",
   "execution_count": null,
   "id": "203b3e7b-2470-4eec-8777-e6e8ccc4c3eb",
   "metadata": {},
   "outputs": [],
   "source": [
    "grade_mean=df.Grade.mean()\n",
    "grade_mean"
   ]
  },
  {
   "cell_type": "code",
   "execution_count": null,
   "id": "12ada1a6-b61f-4e52-92a5-cfe23c6d33f5",
   "metadata": {},
   "outputs": [],
   "source": [
    "grade_standard_median = df.Grade.std()\n",
    "grade_standard_median"
   ]
  },
  {
   "cell_type": "code",
   "execution_count": null,
   "id": "38402628-ad4c-4137-8401-495eb2627c7d",
   "metadata": {},
   "outputs": [],
   "source": [
    "grade_min=df.Grade.min()\n",
    "grade_min"
   ]
  },
  {
   "cell_type": "code",
   "execution_count": null,
   "id": "3b54f49a-9edf-46ec-aabc-b4990ece21de",
   "metadata": {},
   "outputs": [],
   "source": [
    "grade_max=df.Grade.max()\n",
    "grade_max"
   ]
  },
  {
   "cell_type": "code",
   "execution_count": null,
   "id": "dc8c19c7-eb76-4db1-a0b1-c3ea5508ae3f",
   "metadata": {},
   "outputs": [],
   "source": [
    "grade_sum=df.Grade.sum()\n",
    "grade_sum"
   ]
  },
  {
   "cell_type": "code",
   "execution_count": null,
   "id": "79e55450-12ea-49ee-b368-7b4b9b9e4ebf",
   "metadata": {},
   "outputs": [],
   "source": [
    "grade_median=df.Grade.median()\n",
    "grade_median"
   ]
  },
  {
   "cell_type": "code",
   "execution_count": null,
   "id": "efa0fadf-1d1e-4b75-a5bc-6ab6a0a57c2d",
   "metadata": {},
   "outputs": [],
   "source": [
    "grade_quantile=df.Grade.quantile(.54)\n",
    "grade_quantile"
   ]
  },
  {
   "cell_type": "code",
   "execution_count": null,
   "id": "5f145b4a-aece-4a1f-830a-7c129f0960b4",
   "metadata": {},
   "outputs": [],
   "source": []
  },
  {
   "cell_type": "code",
   "execution_count": null,
   "id": "d8cd0f50-65a8-4ccb-b347-6a2678e0a37e",
   "metadata": {},
   "outputs": [],
   "source": [
    "import pandas as pd\n",
    "flight_data=pd.read_csv('C:/Users/new/Downloads/flights/flights.csv',delimiter=',',header='infer')\n",
    "flight_data"
   ]
  },
  {
   "cell_type": "code",
   "execution_count": null,
   "id": "2b0149c6-8f70-4f68-a553-a51a1a67f55d",
   "metadata": {},
   "outputs": [],
   "source": [
    "flight_data.shape"
   ]
  },
  {
   "cell_type": "code",
   "execution_count": null,
   "id": "91d5ee33-106f-4c1b-87bc-483a2235dbbc",
   "metadata": {},
   "outputs": [],
   "source": [
    "flight_data.info()"
   ]
  },
  {
   "cell_type": "code",
   "execution_count": null,
   "id": "2131298c-50e1-4de9-8044-267c5d87c95f",
   "metadata": {},
   "outputs": [],
   "source": [
    "flight_data.isnull().sum()"
   ]
  },
  {
   "cell_type": "code",
   "execution_count": null,
   "id": "9b123f1d-9a26-4a3b-a796-ad3a90493836",
   "metadata": {},
   "outputs": [],
   "source": [
    "flight_data[ (flight_data['Cancelled'] == 0) | (flight_data['DepDelay'] > 15)]"
   ]
  },
  {
   "cell_type": "code",
   "execution_count": null,
   "id": "f9f7d18c-2811-4c81-a34e-74fb4521aa5a",
   "metadata": {},
   "outputs": [],
   "source": [
    "flight_data.sort_values('DepDelay',ascending=False)"
   ]
  },
  {
   "cell_type": "code",
   "execution_count": 49,
   "id": "3bbad94d-90fc-4a43-95a8-c3a407f6fc26",
   "metadata": {},
   "outputs": [
    {
     "data": {
      "text/html": [
       "<div>\n",
       "<style scoped>\n",
       "    .dataframe tbody tr th:only-of-type {\n",
       "        vertical-align: middle;\n",
       "    }\n",
       "\n",
       "    .dataframe tbody tr th {\n",
       "        vertical-align: top;\n",
       "    }\n",
       "\n",
       "    .dataframe thead th {\n",
       "        text-align: right;\n",
       "    }\n",
       "</style>\n",
       "<table border=\"1\" class=\"dataframe\">\n",
       "  <thead>\n",
       "    <tr style=\"text-align: right;\">\n",
       "      <th></th>\n",
       "      <th>Name</th>\n",
       "      <th>StudyHours</th>\n",
       "      <th>Grade</th>\n",
       "    </tr>\n",
       "  </thead>\n",
       "  <tbody>\n",
       "    <tr>\n",
       "      <th>0</th>\n",
       "      <td>Dan</td>\n",
       "      <td>10.00</td>\n",
       "      <td>50.0</td>\n",
       "    </tr>\n",
       "    <tr>\n",
       "      <th>1</th>\n",
       "      <td>Joann</td>\n",
       "      <td>11.50</td>\n",
       "      <td>50.0</td>\n",
       "    </tr>\n",
       "    <tr>\n",
       "      <th>2</th>\n",
       "      <td>Pedro</td>\n",
       "      <td>9.00</td>\n",
       "      <td>47.0</td>\n",
       "    </tr>\n",
       "    <tr>\n",
       "      <th>3</th>\n",
       "      <td>Rosie</td>\n",
       "      <td>16.00</td>\n",
       "      <td>97.0</td>\n",
       "    </tr>\n",
       "    <tr>\n",
       "      <th>4</th>\n",
       "      <td>Ethan</td>\n",
       "      <td>9.25</td>\n",
       "      <td>49.0</td>\n",
       "    </tr>\n",
       "    <tr>\n",
       "      <th>5</th>\n",
       "      <td>Vicky</td>\n",
       "      <td>1.00</td>\n",
       "      <td>3.0</td>\n",
       "    </tr>\n",
       "    <tr>\n",
       "      <th>6</th>\n",
       "      <td>Frederic</td>\n",
       "      <td>11.50</td>\n",
       "      <td>53.0</td>\n",
       "    </tr>\n",
       "    <tr>\n",
       "      <th>7</th>\n",
       "      <td>Jimmie</td>\n",
       "      <td>9.00</td>\n",
       "      <td>42.0</td>\n",
       "    </tr>\n",
       "    <tr>\n",
       "      <th>8</th>\n",
       "      <td>Rhonda</td>\n",
       "      <td>8.50</td>\n",
       "      <td>26.0</td>\n",
       "    </tr>\n",
       "    <tr>\n",
       "      <th>9</th>\n",
       "      <td>Giovanni</td>\n",
       "      <td>14.50</td>\n",
       "      <td>74.0</td>\n",
       "    </tr>\n",
       "    <tr>\n",
       "      <th>10</th>\n",
       "      <td>Francesca</td>\n",
       "      <td>15.50</td>\n",
       "      <td>82.0</td>\n",
       "    </tr>\n",
       "    <tr>\n",
       "      <th>11</th>\n",
       "      <td>Rajab</td>\n",
       "      <td>13.75</td>\n",
       "      <td>62.0</td>\n",
       "    </tr>\n",
       "    <tr>\n",
       "      <th>12</th>\n",
       "      <td>Naiyana</td>\n",
       "      <td>9.00</td>\n",
       "      <td>37.0</td>\n",
       "    </tr>\n",
       "    <tr>\n",
       "      <th>13</th>\n",
       "      <td>Kian</td>\n",
       "      <td>8.00</td>\n",
       "      <td>15.0</td>\n",
       "    </tr>\n",
       "    <tr>\n",
       "      <th>14</th>\n",
       "      <td>Jenny</td>\n",
       "      <td>15.50</td>\n",
       "      <td>70.0</td>\n",
       "    </tr>\n",
       "    <tr>\n",
       "      <th>15</th>\n",
       "      <td>Jakeem</td>\n",
       "      <td>8.00</td>\n",
       "      <td>27.0</td>\n",
       "    </tr>\n",
       "    <tr>\n",
       "      <th>16</th>\n",
       "      <td>Helena</td>\n",
       "      <td>9.00</td>\n",
       "      <td>36.0</td>\n",
       "    </tr>\n",
       "    <tr>\n",
       "      <th>17</th>\n",
       "      <td>Ismat</td>\n",
       "      <td>6.00</td>\n",
       "      <td>35.0</td>\n",
       "    </tr>\n",
       "    <tr>\n",
       "      <th>18</th>\n",
       "      <td>Anila</td>\n",
       "      <td>10.00</td>\n",
       "      <td>48.0</td>\n",
       "    </tr>\n",
       "    <tr>\n",
       "      <th>19</th>\n",
       "      <td>Skye</td>\n",
       "      <td>12.00</td>\n",
       "      <td>52.0</td>\n",
       "    </tr>\n",
       "    <tr>\n",
       "      <th>20</th>\n",
       "      <td>Daniel</td>\n",
       "      <td>12.50</td>\n",
       "      <td>63.0</td>\n",
       "    </tr>\n",
       "    <tr>\n",
       "      <th>21</th>\n",
       "      <td>Aisha</td>\n",
       "      <td>12.00</td>\n",
       "      <td>64.0</td>\n",
       "    </tr>\n",
       "    <tr>\n",
       "      <th>22</th>\n",
       "      <td>Bill</td>\n",
       "      <td>8.00</td>\n",
       "      <td>NaN</td>\n",
       "    </tr>\n",
       "    <tr>\n",
       "      <th>23</th>\n",
       "      <td>Ted</td>\n",
       "      <td>NaN</td>\n",
       "      <td>NaN</td>\n",
       "    </tr>\n",
       "  </tbody>\n",
       "</table>\n",
       "</div>"
      ],
      "text/plain": [
       "         Name  StudyHours  Grade\n",
       "0         Dan       10.00   50.0\n",
       "1       Joann       11.50   50.0\n",
       "2       Pedro        9.00   47.0\n",
       "3       Rosie       16.00   97.0\n",
       "4       Ethan        9.25   49.0\n",
       "5       Vicky        1.00    3.0\n",
       "6    Frederic       11.50   53.0\n",
       "7      Jimmie        9.00   42.0\n",
       "8      Rhonda        8.50   26.0\n",
       "9    Giovanni       14.50   74.0\n",
       "10  Francesca       15.50   82.0\n",
       "11      Rajab       13.75   62.0\n",
       "12    Naiyana        9.00   37.0\n",
       "13       Kian        8.00   15.0\n",
       "14      Jenny       15.50   70.0\n",
       "15     Jakeem        8.00   27.0\n",
       "16     Helena        9.00   36.0\n",
       "17      Ismat        6.00   35.0\n",
       "18      Anila       10.00   48.0\n",
       "19       Skye       12.00   52.0\n",
       "20     Daniel       12.50   63.0\n",
       "21      Aisha       12.00   64.0\n",
       "22       Bill        8.00    NaN\n",
       "23        Ted         NaN    NaN"
      ]
     },
     "execution_count": 49,
     "metadata": {},
     "output_type": "execute_result"
    }
   ],
   "source": [
    "df"
   ]
  },
  {
   "cell_type": "code",
   "execution_count": 50,
   "id": "e43f1f82-d689-447c-a67b-e4f5226d1417",
   "metadata": {},
   "outputs": [],
   "source": [
    "passes = pd.Series(df['Grade'] > 60 )"
   ]
  },
  {
   "cell_type": "code",
   "execution_count": 51,
   "id": "08624bc5-c579-4156-879d-746b94b75eea",
   "metadata": {},
   "outputs": [
    {
     "data": {
      "text/plain": [
       "0     False\n",
       "1     False\n",
       "2     False\n",
       "3      True\n",
       "4     False\n",
       "5     False\n",
       "6     False\n",
       "7     False\n",
       "8     False\n",
       "9      True\n",
       "10     True\n",
       "11     True\n",
       "12    False\n",
       "13    False\n",
       "14     True\n",
       "15    False\n",
       "16    False\n",
       "17    False\n",
       "18    False\n",
       "19    False\n",
       "20     True\n",
       "21     True\n",
       "22    False\n",
       "23    False\n",
       "Name: Grade, dtype: bool"
      ]
     },
     "execution_count": 51,
     "metadata": {},
     "output_type": "execute_result"
    }
   ],
   "source": [
    "passes"
   ]
  },
  {
   "cell_type": "code",
   "execution_count": 52,
   "id": "b87e0dc8-7586-4ecc-a024-215d0e311fc6",
   "metadata": {},
   "outputs": [],
   "source": [
    "df2 = pd.concat([df,passes.rename('Pass')],axis=1)"
   ]
  },
  {
   "cell_type": "code",
   "execution_count": 53,
   "id": "4613a990-f7ec-4108-93dc-0deba3f7c699",
   "metadata": {},
   "outputs": [
    {
     "data": {
      "text/html": [
       "<div>\n",
       "<style scoped>\n",
       "    .dataframe tbody tr th:only-of-type {\n",
       "        vertical-align: middle;\n",
       "    }\n",
       "\n",
       "    .dataframe tbody tr th {\n",
       "        vertical-align: top;\n",
       "    }\n",
       "\n",
       "    .dataframe thead th {\n",
       "        text-align: right;\n",
       "    }\n",
       "</style>\n",
       "<table border=\"1\" class=\"dataframe\">\n",
       "  <thead>\n",
       "    <tr style=\"text-align: right;\">\n",
       "      <th></th>\n",
       "      <th>Name</th>\n",
       "      <th>StudyHours</th>\n",
       "      <th>Grade</th>\n",
       "      <th>Pass</th>\n",
       "    </tr>\n",
       "  </thead>\n",
       "  <tbody>\n",
       "    <tr>\n",
       "      <th>0</th>\n",
       "      <td>Dan</td>\n",
       "      <td>10.00</td>\n",
       "      <td>50.0</td>\n",
       "      <td>False</td>\n",
       "    </tr>\n",
       "    <tr>\n",
       "      <th>1</th>\n",
       "      <td>Joann</td>\n",
       "      <td>11.50</td>\n",
       "      <td>50.0</td>\n",
       "      <td>False</td>\n",
       "    </tr>\n",
       "    <tr>\n",
       "      <th>2</th>\n",
       "      <td>Pedro</td>\n",
       "      <td>9.00</td>\n",
       "      <td>47.0</td>\n",
       "      <td>False</td>\n",
       "    </tr>\n",
       "    <tr>\n",
       "      <th>3</th>\n",
       "      <td>Rosie</td>\n",
       "      <td>16.00</td>\n",
       "      <td>97.0</td>\n",
       "      <td>True</td>\n",
       "    </tr>\n",
       "    <tr>\n",
       "      <th>4</th>\n",
       "      <td>Ethan</td>\n",
       "      <td>9.25</td>\n",
       "      <td>49.0</td>\n",
       "      <td>False</td>\n",
       "    </tr>\n",
       "    <tr>\n",
       "      <th>5</th>\n",
       "      <td>Vicky</td>\n",
       "      <td>1.00</td>\n",
       "      <td>3.0</td>\n",
       "      <td>False</td>\n",
       "    </tr>\n",
       "    <tr>\n",
       "      <th>6</th>\n",
       "      <td>Frederic</td>\n",
       "      <td>11.50</td>\n",
       "      <td>53.0</td>\n",
       "      <td>False</td>\n",
       "    </tr>\n",
       "    <tr>\n",
       "      <th>7</th>\n",
       "      <td>Jimmie</td>\n",
       "      <td>9.00</td>\n",
       "      <td>42.0</td>\n",
       "      <td>False</td>\n",
       "    </tr>\n",
       "    <tr>\n",
       "      <th>8</th>\n",
       "      <td>Rhonda</td>\n",
       "      <td>8.50</td>\n",
       "      <td>26.0</td>\n",
       "      <td>False</td>\n",
       "    </tr>\n",
       "    <tr>\n",
       "      <th>9</th>\n",
       "      <td>Giovanni</td>\n",
       "      <td>14.50</td>\n",
       "      <td>74.0</td>\n",
       "      <td>True</td>\n",
       "    </tr>\n",
       "    <tr>\n",
       "      <th>10</th>\n",
       "      <td>Francesca</td>\n",
       "      <td>15.50</td>\n",
       "      <td>82.0</td>\n",
       "      <td>True</td>\n",
       "    </tr>\n",
       "    <tr>\n",
       "      <th>11</th>\n",
       "      <td>Rajab</td>\n",
       "      <td>13.75</td>\n",
       "      <td>62.0</td>\n",
       "      <td>True</td>\n",
       "    </tr>\n",
       "    <tr>\n",
       "      <th>12</th>\n",
       "      <td>Naiyana</td>\n",
       "      <td>9.00</td>\n",
       "      <td>37.0</td>\n",
       "      <td>False</td>\n",
       "    </tr>\n",
       "    <tr>\n",
       "      <th>13</th>\n",
       "      <td>Kian</td>\n",
       "      <td>8.00</td>\n",
       "      <td>15.0</td>\n",
       "      <td>False</td>\n",
       "    </tr>\n",
       "    <tr>\n",
       "      <th>14</th>\n",
       "      <td>Jenny</td>\n",
       "      <td>15.50</td>\n",
       "      <td>70.0</td>\n",
       "      <td>True</td>\n",
       "    </tr>\n",
       "    <tr>\n",
       "      <th>15</th>\n",
       "      <td>Jakeem</td>\n",
       "      <td>8.00</td>\n",
       "      <td>27.0</td>\n",
       "      <td>False</td>\n",
       "    </tr>\n",
       "    <tr>\n",
       "      <th>16</th>\n",
       "      <td>Helena</td>\n",
       "      <td>9.00</td>\n",
       "      <td>36.0</td>\n",
       "      <td>False</td>\n",
       "    </tr>\n",
       "    <tr>\n",
       "      <th>17</th>\n",
       "      <td>Ismat</td>\n",
       "      <td>6.00</td>\n",
       "      <td>35.0</td>\n",
       "      <td>False</td>\n",
       "    </tr>\n",
       "    <tr>\n",
       "      <th>18</th>\n",
       "      <td>Anila</td>\n",
       "      <td>10.00</td>\n",
       "      <td>48.0</td>\n",
       "      <td>False</td>\n",
       "    </tr>\n",
       "    <tr>\n",
       "      <th>19</th>\n",
       "      <td>Skye</td>\n",
       "      <td>12.00</td>\n",
       "      <td>52.0</td>\n",
       "      <td>False</td>\n",
       "    </tr>\n",
       "    <tr>\n",
       "      <th>20</th>\n",
       "      <td>Daniel</td>\n",
       "      <td>12.50</td>\n",
       "      <td>63.0</td>\n",
       "      <td>True</td>\n",
       "    </tr>\n",
       "    <tr>\n",
       "      <th>21</th>\n",
       "      <td>Aisha</td>\n",
       "      <td>12.00</td>\n",
       "      <td>64.0</td>\n",
       "      <td>True</td>\n",
       "    </tr>\n",
       "    <tr>\n",
       "      <th>22</th>\n",
       "      <td>Bill</td>\n",
       "      <td>8.00</td>\n",
       "      <td>NaN</td>\n",
       "      <td>False</td>\n",
       "    </tr>\n",
       "    <tr>\n",
       "      <th>23</th>\n",
       "      <td>Ted</td>\n",
       "      <td>NaN</td>\n",
       "      <td>NaN</td>\n",
       "      <td>False</td>\n",
       "    </tr>\n",
       "  </tbody>\n",
       "</table>\n",
       "</div>"
      ],
      "text/plain": [
       "         Name  StudyHours  Grade   Pass\n",
       "0         Dan       10.00   50.0  False\n",
       "1       Joann       11.50   50.0  False\n",
       "2       Pedro        9.00   47.0  False\n",
       "3       Rosie       16.00   97.0   True\n",
       "4       Ethan        9.25   49.0  False\n",
       "5       Vicky        1.00    3.0  False\n",
       "6    Frederic       11.50   53.0  False\n",
       "7      Jimmie        9.00   42.0  False\n",
       "8      Rhonda        8.50   26.0  False\n",
       "9    Giovanni       14.50   74.0   True\n",
       "10  Francesca       15.50   82.0   True\n",
       "11      Rajab       13.75   62.0   True\n",
       "12    Naiyana        9.00   37.0  False\n",
       "13       Kian        8.00   15.0  False\n",
       "14      Jenny       15.50   70.0   True\n",
       "15     Jakeem        8.00   27.0  False\n",
       "16     Helena        9.00   36.0  False\n",
       "17      Ismat        6.00   35.0  False\n",
       "18      Anila       10.00   48.0  False\n",
       "19       Skye       12.00   52.0  False\n",
       "20     Daniel       12.50   63.0   True\n",
       "21      Aisha       12.00   64.0   True\n",
       "22       Bill        8.00    NaN  False\n",
       "23        Ted         NaN    NaN  False"
      ]
     },
     "execution_count": 53,
     "metadata": {},
     "output_type": "execute_result"
    }
   ],
   "source": [
    "df2"
   ]
  },
  {
   "cell_type": "code",
   "execution_count": 57,
   "id": "e9120dcd-d06e-4e62-b60d-8123b3a720a5",
   "metadata": {},
   "outputs": [
    {
     "name": "stdout",
     "output_type": "stream",
     "text": [
      "Pass\n",
      "False    17\n",
      "True      7\n",
      "Name: Name, dtype: int64\n"
     ]
    }
   ],
   "source": [
    "print(df2.groupby(df2.Pass).Name.count())"
   ]
  },
  {
   "cell_type": "code",
   "execution_count": 78,
   "id": "39348b88-80eb-486f-810c-45b7f2549327",
   "metadata": {},
   "outputs": [
    {
     "name": "stdout",
     "output_type": "stream",
     "text": [
      "           Grade  StudyHours\n",
      "Pass                        \n",
      "False  38.000000    8.734375\n",
      "True   73.142857   14.250000\n"
     ]
    }
   ],
   "source": [
    "print(df2.groupby(df2.Pass)[['Grade', 'StudyHours']].mean())"
   ]
  },
  {
   "cell_type": "code",
   "execution_count": 79,
   "id": "09cc3f2c-e143-4331-bb60-17287c60bf4d",
   "metadata": {},
   "outputs": [
    {
     "data": {
      "text/plain": [
       "Pass\n",
       "False    17\n",
       "True      7\n",
       "Name: Name, dtype: int64"
      ]
     },
     "execution_count": 79,
     "metadata": {},
     "output_type": "execute_result"
    }
   ],
   "source": [
    "df2.groupby(\"Pass\")['Name'].count()"
   ]
  },
  {
   "cell_type": "code",
   "execution_count": 80,
   "id": "40df83ca-2b0e-4fb6-b460-72623829578d",
   "metadata": {},
   "outputs": [
    {
     "data": {
      "text/plain": [
       "0     False\n",
       "1     False\n",
       "2     False\n",
       "3      True\n",
       "4     False\n",
       "5     False\n",
       "6     False\n",
       "7     False\n",
       "8     False\n",
       "9      True\n",
       "10     True\n",
       "11     True\n",
       "12    False\n",
       "13    False\n",
       "14     True\n",
       "15    False\n",
       "16    False\n",
       "17    False\n",
       "18    False\n",
       "19    False\n",
       "20     True\n",
       "21     True\n",
       "22    False\n",
       "23    False\n",
       "Name: Pass, dtype: bool"
      ]
     },
     "execution_count": 80,
     "metadata": {},
     "output_type": "execute_result"
    }
   ],
   "source": [
    "df2.Pass"
   ]
  },
  {
   "cell_type": "code",
   "execution_count": null,
   "id": "14cbe379-ad98-4469-ac4b-75c60f47c5b6",
   "metadata": {},
   "outputs": [],
   "source": []
  }
 ],
 "metadata": {
  "kernelspec": {
   "display_name": "Python 3 (ipykernel)",
   "language": "python",
   "name": "python3"
  },
  "language_info": {
   "codemirror_mode": {
    "name": "ipython",
    "version": 3
   },
   "file_extension": ".py",
   "mimetype": "text/x-python",
   "name": "python",
   "nbconvert_exporter": "python",
   "pygments_lexer": "ipython3",
   "version": "3.12.4"
  }
 },
 "nbformat": 4,
 "nbformat_minor": 5
}
